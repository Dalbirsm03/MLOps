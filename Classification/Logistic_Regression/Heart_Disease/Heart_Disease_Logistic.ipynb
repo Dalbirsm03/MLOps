{
 "cells": [
  {
   "cell_type": "code",
   "execution_count": 1,
   "metadata": {},
   "outputs": [],
   "source": [
    "import pandas as pd\n",
    "import numpy as np\n",
    "from sklearn.model_selection import train_test_split\n",
    "from sklearn.linear_model import LogisticRegression\n",
    "from sklearn.metrics import accuracy_score"
   ]
  },
  {
   "cell_type": "code",
   "execution_count": 2,
   "metadata": {},
   "outputs": [],
   "source": [
    "heart_data = pd.read_csv('/content/heart_disease_data.csv')"
   ]
  },
  {
   "cell_type": "code",
   "execution_count": 3,
   "metadata": {},
   "outputs": [],
   "source": [
    "X = heart_data.drop(columns=[\"target\"], axis=1)\n",
    "Y = heart_data[\"target\"]\n",
    "X_train, X_test, Y_train, Y_test = train_test_split(X, Y, test_size=0.1, stratify=Y, random_state=1)\n",
    "print(X.shape, X_train.shape, X_test.shape)"
   ]
  },
  {
   "cell_type": "code",
   "execution_count": null,
   "metadata": {},
   "outputs": [],
   "source": [
    "model = LogisticRegression()\n",
    "model.fit(X_train, Y_train)\n",
    "\n",
    "X_train_prediction = model.predict(X_train)\n",
    "train_accuracy = accuracy_score(X_train_prediction, Y_train)\n",
    "print(train_accuracy)\n",
    "\n",
    "X_test_prediction = model.predict(X_test)\n",
    "test_accuracy = accuracy_score(X_test_prediction, Y_test)\n",
    "print(test_accuracy)"
   ]
  },
  {
   "cell_type": "code",
   "execution_count": 5,
   "metadata": {},
   "outputs": [],
   "source": [
    "input_data = (63,1,3,145,233,1,0,150,0,2.3,0,0,1)\n",
    "array_input = np.asarray(input_data)\n",
    "final_input = array_input.reshape(1,-1)\n",
    "prediction = model.predict(final_input)\n",
    "print(prediction)\n",
    "if prediction[0] == 1:\n",
    "    print(\"He is a heart patient\")\n",
    "else:\n",
    "    print(\"He is OKAY\")"
   ]
  }
 ],
 "metadata": {
  "kernelspec": {
   "display_name": "Python 3",
   "language": "python",
   "name": "python3"
  },
  "language_info": {
   "name": "python",
   "version": "3.12"
  }
 },
 "nbformat": 4,
 "nbformat_minor": 5
}
